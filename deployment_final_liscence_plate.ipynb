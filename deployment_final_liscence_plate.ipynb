{
  "nbformat": 4,
  "nbformat_minor": 0,
  "metadata": {
    "colab": {
      "name": "deployment_final_liscence_plate.ipynb",
      "provenance": [],
      "collapsed_sections": []
    },
    "kernelspec": {
      "name": "python3",
      "display_name": "Python 3"
    },
    "accelerator": "GPU"
  },
  "cells": [
    {
      "cell_type": "code",
      "metadata": {
        "colab": {
          "base_uri": "https://localhost:8080/",
          "height": 35
        },
        "id": "xoEHeTEoU2WL",
        "outputId": "eac966b6-d1e5-479f-83b8-4665b45329e8"
      },
      "source": [
        "pwd"
      ],
      "execution_count": null,
      "outputs": [
        {
          "output_type": "execute_result",
          "data": {
            "application/vnd.google.colaboratory.intrinsic+json": {
              "type": "string"
            },
            "text/plain": [
              "'/content'"
            ]
          },
          "metadata": {
            "tags": []
          },
          "execution_count": 1
        }
      ]
    },
    {
      "cell_type": "code",
      "metadata": {
        "colab": {
          "base_uri": "https://localhost:8080/"
        },
        "id": "rCZLVmwWaKVX",
        "outputId": "d7f4c93e-7516-4b2a-db0a-57a430326145"
      },
      "source": [
        "! pip uninstall flask_ngrok # first uninstalling and reinstalling ngrok resolved some error while deploying"
      ],
      "execution_count": null,
      "outputs": [
        {
          "output_type": "stream",
          "text": [
            "\u001b[33mWARNING: Skipping flask-ngrok as it is not installed.\u001b[0m\n"
          ],
          "name": "stdout"
        }
      ]
    },
    {
      "cell_type": "code",
      "metadata": {
        "id": "X8tGyqu5ItJz",
        "colab": {
          "base_uri": "https://localhost:8080/"
        },
        "outputId": "8f1a32e7-22ab-4094-b05c-1b637dc00c9b"
      },
      "source": [
        "! pip install flask_ngrok\n",
        "#! pip install pyngrok"
      ],
      "execution_count": null,
      "outputs": [
        {
          "output_type": "stream",
          "text": [
            "Collecting flask_ngrok\n",
            "  Downloading https://files.pythonhosted.org/packages/af/6c/f54cb686ad1129e27d125d182f90f52b32f284e6c8df58c1bae54fa1adbc/flask_ngrok-0.0.25-py3-none-any.whl\n",
            "Requirement already satisfied: Flask>=0.8 in /usr/local/lib/python3.7/dist-packages (from flask_ngrok) (1.1.2)\n",
            "Requirement already satisfied: requests in /usr/local/lib/python3.7/dist-packages (from flask_ngrok) (2.23.0)\n",
            "Requirement already satisfied: Jinja2>=2.10.1 in /usr/local/lib/python3.7/dist-packages (from Flask>=0.8->flask_ngrok) (2.11.3)\n",
            "Requirement already satisfied: itsdangerous>=0.24 in /usr/local/lib/python3.7/dist-packages (from Flask>=0.8->flask_ngrok) (1.1.0)\n",
            "Requirement already satisfied: click>=5.1 in /usr/local/lib/python3.7/dist-packages (from Flask>=0.8->flask_ngrok) (7.1.2)\n",
            "Requirement already satisfied: Werkzeug>=0.15 in /usr/local/lib/python3.7/dist-packages (from Flask>=0.8->flask_ngrok) (1.0.1)\n",
            "Requirement already satisfied: chardet<4,>=3.0.2 in /usr/local/lib/python3.7/dist-packages (from requests->flask_ngrok) (3.0.4)\n",
            "Requirement already satisfied: certifi>=2017.4.17 in /usr/local/lib/python3.7/dist-packages (from requests->flask_ngrok) (2020.12.5)\n",
            "Requirement already satisfied: urllib3!=1.25.0,!=1.25.1,<1.26,>=1.21.1 in /usr/local/lib/python3.7/dist-packages (from requests->flask_ngrok) (1.24.3)\n",
            "Requirement already satisfied: idna<3,>=2.5 in /usr/local/lib/python3.7/dist-packages (from requests->flask_ngrok) (2.10)\n",
            "Requirement already satisfied: MarkupSafe>=0.23 in /usr/local/lib/python3.7/dist-packages (from Jinja2>=2.10.1->Flask>=0.8->flask_ngrok) (1.1.1)\n",
            "Installing collected packages: flask-ngrok\n",
            "Successfully installed flask-ngrok-0.0.25\n"
          ],
          "name": "stdout"
        }
      ]
    },
    {
      "cell_type": "code",
      "metadata": {
        "id": "-ER8wA8iIvvN"
      },
      "source": [
        "from __future__ import division, print_function\n",
        "import sys\n",
        "import os\n",
        "import glob\n",
        "import re\n",
        "import numpy as np\n",
        "import cv2\n",
        "\n",
        "# Keras\n",
        "from keras.applications.imagenet_utils import preprocess_input, decode_predictions\n",
        "from keras.models import load_model\n",
        "from keras.preprocessing import image\n",
        "from keras.models import model_from_json\n",
        "\n",
        "# Flask utils\n",
        "from flask import Flask, redirect, url_for, request, render_template\n",
        "from werkzeug.utils import secure_filename\n",
        "#from gevent.pywsgi import WSGIServer\n",
        "from flask_ngrok import run_with_ngrok\n",
        "from flask import send_file\n",
        "\n",
        "from matplotlib import pyplot as plt\n"
      ],
      "execution_count": null,
      "outputs": []
    },
    {
      "cell_type": "code",
      "metadata": {
        "colab": {
          "base_uri": "https://localhost:8080/"
        },
        "id": "9Muxp5odH_4x",
        "outputId": "682b7e02-7fb2-4fbe-8bf1-4a053ba7b656"
      },
      "source": [
        "cd '/content/drive/MyDrive/deployment_final' # changing directory"
      ],
      "execution_count": null,
      "outputs": [
        {
          "output_type": "stream",
          "text": [
            "/content/drive/MyDrive/deployment_final\n"
          ],
          "name": "stdout"
        }
      ]
    },
    {
      "cell_type": "code",
      "metadata": {
        "colab": {
          "base_uri": "https://localhost:8080/"
        },
        "id": "Y_rAIcrnIz0j",
        "outputId": "2b56b299-583f-45c2-a7d2-d2618777a7de"
      },
      "source": [
        "\n",
        "# Define a flask app\n",
        "app = Flask(__name__) #runs on local server\n",
        "run_with_ngrok(app) #required to run on global server\n",
        "\n",
        "# Model saved with Keras model.save()\n",
        "#MODEL_PATH = '/content/drive/MyDrive/my_model.h5'\n",
        "\n",
        "# Load your trained model\n",
        "\n",
        "# load json and create model\n",
        "json_file = open('/content/drive/MyDrive/cnn_model.json', 'r')#model from our main script\n",
        "loaded_model_json = json_file.read()\n",
        "json_file.close()\n",
        "loaded_model = model_from_json(loaded_model_json)\n",
        "# load weights into new model\n",
        "loaded_model.load_weights(\"/content/drive/MyDrive/cnn_model.h5\")\n",
        "print(\"Loaded model from disk\")\n",
        " \n",
        "# evaluate loaded model on test data\n",
        "loaded_model.compile(loss='mse', optimizer='adam', metrics=['accuracy'])\n",
        "#score = loaded_model.evaluate(trainImages, trainTargets,  verbose=1)\n",
        "#print(\"%s: %.2f%%\" % (loaded_model.metrics_names[1], score[1]*100))\n",
        "\n",
        "\n",
        "#from keras.applications.resnet50 import ResNet50\n",
        "#model = ResNet50(weights='imagenet')\n",
        "#model.save('')\n",
        "#print('Model loaded. Check http://127.0.0.1:5000/')\n",
        "\n"
      ],
      "execution_count": null,
      "outputs": [
        {
          "output_type": "stream",
          "text": [
            "Loaded model from disk\n"
          ],
          "name": "stdout"
        }
      ]
    },
    {
      "cell_type": "code",
      "metadata": {
        "id": "HzDB6tbxK0tL"
      },
      "source": [
        "\n",
        "def model_predict(img_path, loaded_model):\n",
        "\n",
        "    img = cv2.imread(img_path)  # convert to array\n",
        "    img_gray =  cv2.cvtColor(img, cv2.COLOR_BGR2GRAY)\n",
        "    structuringElement = cv2.getStructuringElement(cv2.MORPH_RECT, (3, 3))\n",
        "    imgTopHat = cv2.morphologyEx(img_gray, cv2.MORPH_TOPHAT, structuringElement)\n",
        "    imgBlackHat = cv2.morphologyEx(img_gray, cv2.MORPH_BLACKHAT, structuringElement)\n",
        "\n",
        "    imgGrayscalePlusTopHat = cv2.add(img_gray, imgTopHat)\n",
        "    gray = cv2.subtract(imgGrayscalePlusTopHat, imgBlackHat)\n",
        "\n",
        "    #Thresholding\n",
        "\n",
        "    img_blurred = cv2.GaussianBlur(gray, ksize=(5, 5), sigmaX=0)\n",
        "\n",
        "    img_thresh = cv2.adaptiveThreshold(\n",
        "        img_blurred, \n",
        "        maxValue=255.0, \n",
        "        adaptiveMethod=cv2.ADAPTIVE_THRESH_GAUSSIAN_C, \n",
        "        thresholdType=cv2.THRESH_BINARY_INV, \n",
        "        blockSize=19, \n",
        "        C=9)\n",
        "\n",
        "\n",
        "\n",
        "\n",
        "    img = cv2.resize(img_thresh, (224, 224))  # resize to normalize data size\n",
        "    X = np.array(img).reshape(-1, 224, 224,1)#train data--converting to array for input to cnn\n",
        "    X_norm = np.array(X, dtype=\"float32\") / 255.0 #normalising as pixel ranges from 0 to 255\n",
        "\n",
        "    #img = image.load_img(img_path, target_size=(224, 224))\n",
        "\n",
        "    # Preprocessing the image\n",
        "    #x = image.img_to_array(img)\n",
        "    # x = np.true_divide(x, 255)\n",
        "    #x = np.expand_dims(x, axis=0)\n",
        "\n",
        "    # Be careful how your trained model deals with the input\n",
        "    # otherwise, it won't make correct prediction!\n",
        "    #x = preprocess_input(x, mode='caffe')\n",
        "\n",
        "    preds = loaded_model.predict(X_norm)[0]\n",
        "    return preds\n"
      ],
      "execution_count": null,
      "outputs": []
    },
    {
      "cell_type": "code",
      "metadata": {
        "id": "5D5AXNiyNDrT"
      },
      "source": [
        "UPLOAD_FOLDER = '/content/drive/MyDrive/deployment_final/static/uploads' # directory where uploaded files r going to be saved\n",
        "app.config['UPLOAD_FOLDER'] = UPLOAD_FOLDER"
      ],
      "execution_count": null,
      "outputs": []
    },
    {
      "cell_type": "code",
      "metadata": {
        "id": "apmBtckcNwKG"
      },
      "source": [
        "output_path = './static/detections/' # predicted image directory"
      ],
      "execution_count": null,
      "outputs": []
    },
    {
      "cell_type": "code",
      "metadata": {
        "id": "Tk4Vel-7I5es"
      },
      "source": [
        "\n",
        "@app.route(\"/\") #home page\n",
        "def index():\n",
        "  return render_template(\"index.html\")\n",
        "\n",
        "@app.route(\"/about\") #about page\n",
        "def about():\n",
        "  return render_template(\"about.html\")\n",
        "\n",
        "\n",
        "\n",
        "@app.route('/uploader', methods = ['GET', 'POST'])\n",
        "def upload():\n",
        "    if request.method == 'POST':\n",
        "        # Get the file from post request\n",
        "        f = request.files['file']\n",
        "        # create a secure filename\n",
        "        filename = secure_filename(f.filename)\n",
        "        print(filename)\n",
        "        # save file to /static/uploads\n",
        "        filepath = os.path.join(app.config['UPLOAD_FOLDER'], filename)\n",
        "        print(filepath)\n",
        "        f.save(filepath)\n",
        "        print('filename is :',secure_filename(f.filename))\n",
        "\n",
        "        # Make prediction\n",
        "        preds = model_predict(filepath, loaded_model)\n",
        "\n",
        "        (startX, startY, endX, endY) = preds\n",
        "        # load the input image (in OpenCV format), resize it such that it\n",
        "        # fits on our screen, and grab its dimensions\n",
        "        image = cv2.imread(filepath)\n",
        "        #image = cv2.resize(image, (250,250))\n",
        "        (h, w) = image.shape[:2]\n",
        "        # scale the predicted bounding box coordinates based on the image\n",
        "        # dimensions\n",
        "        startX = int(startX * w)\n",
        "        startY = int(startY * h)\n",
        "        endX = int(endX * w)\n",
        "        endY = int(endY * h)\n",
        "        # draw the predicted bounding box on the image\n",
        "        cv2.rectangle(image, (startX, startY), (endX, endY),\n",
        "          (255, 0, 0), 5)\n",
        "        # show the output image\n",
        "        plt.imshow(image)\n",
        "        result = plt.savefig('/content/drive/MyDrive/deployment_final/static/detections/'+'{}' .format(filename))\n",
        "        file_path_result = '/content/drive/MyDrive/deployment_final/static/detections/result.jpg'\n",
        "\n",
        "        return render_template(\"uploaded.html\", display_detection = filename, fname = filename)  \n",
        "        #return send_file(('/content/result.jpg'), mimetype=\"image/jpeg\", attachment_filename=\"result.jpg\")\n",
        "    return None\n",
        "\n",
        "\n",
        "#if __name__ == '__main__':\n",
        "#app.run()"
      ],
      "execution_count": null,
      "outputs": []
    },
    {
      "cell_type": "code",
      "metadata": {
        "id": "W7s9eyfNW8vu",
        "colab": {
          "base_uri": "https://localhost:8080/"
        },
        "outputId": "58955115-7620-4653-eca3-6a105920556c"
      },
      "source": [
        "app.run()"
      ],
      "execution_count": null,
      "outputs": [
        {
          "output_type": "stream",
          "text": [
            " * Serving Flask app \"__main__\" (lazy loading)\n",
            " * Environment: production\n",
            "\u001b[31m   WARNING: This is a development server. Do not use it in a production deployment.\u001b[0m\n",
            "\u001b[2m   Use a production WSGI server instead.\u001b[0m\n",
            " * Debug mode: off\n"
          ],
          "name": "stdout"
        },
        {
          "output_type": "stream",
          "text": [
            " * Running on http://127.0.0.1:5000/ (Press CTRL+C to quit)\n"
          ],
          "name": "stderr"
        },
        {
          "output_type": "stream",
          "text": [
            " * Running on http://d995be671dfd.ngrok.io\n",
            " * Traffic stats available on http://127.0.0.1:4040\n"
          ],
          "name": "stdout"
        },
        {
          "output_type": "stream",
          "text": [
            "127.0.0.1 - - [25/Mar/2021 05:50:57] \"\u001b[37mGET / HTTP/1.1\u001b[0m\" 200 -\n",
            "127.0.0.1 - - [25/Mar/2021 05:50:58] \"\u001b[37mGET /static/css/main.css HTTP/1.1\u001b[0m\" 200 -\n",
            "127.0.0.1 - - [25/Mar/2021 05:50:59] \"\u001b[33mGET /favicon.ico HTTP/1.1\u001b[0m\" 404 -\n"
          ],
          "name": "stderr"
        },
        {
          "output_type": "stream",
          "text": [
            "Cars0.png\n",
            "/content/drive/MyDrive/deployment_final/static/uploads/Cars0.png\n",
            "filename is : Cars0.png\n"
          ],
          "name": "stdout"
        },
        {
          "output_type": "stream",
          "text": [
            "[2021-03-25 05:51:36,460] ERROR in app: Exception on /uploader [GET]\n",
            "Traceback (most recent call last):\n",
            "  File \"/usr/local/lib/python3.7/dist-packages/flask/app.py\", line 2447, in wsgi_app\n",
            "    response = self.full_dispatch_request()\n",
            "  File \"/usr/local/lib/python3.7/dist-packages/flask/app.py\", line 1953, in full_dispatch_request\n",
            "    return self.finalize_request(rv)\n",
            "  File \"/usr/local/lib/python3.7/dist-packages/flask/app.py\", line 1968, in finalize_request\n",
            "    response = self.make_response(rv)\n",
            "  File \"/usr/local/lib/python3.7/dist-packages/flask/app.py\", line 2098, in make_response\n",
            "    \"The view function did not return a valid response. The\"\n",
            "TypeError: The view function did not return a valid response. The function either returned None or ended without a return statement.\n",
            "127.0.0.1 - - [25/Mar/2021 05:51:36] \"\u001b[35m\u001b[1mGET /uploader HTTP/1.1\u001b[0m\" 500 -\n",
            "127.0.0.1 - - [25/Mar/2021 05:52:10] \"\u001b[37mPOST /uploader HTTP/1.1\u001b[0m\" 200 -\n",
            "127.0.0.1 - - [25/Mar/2021 05:52:10] \"\u001b[37mGET /static/uploads/Cars0.png HTTP/1.1\u001b[0m\" 200 -\n",
            "127.0.0.1 - - [25/Mar/2021 05:52:11] \"\u001b[37mGET /static/detections/Cars0.png HTTP/1.1\u001b[0m\" 200 -\n"
          ],
          "name": "stderr"
        },
        {
          "output_type": "stream",
          "text": [
            "Cars1.png\n",
            "/content/drive/MyDrive/deployment_final/static/uploads/Cars1.png\n",
            "filename is : Cars1.png\n"
          ],
          "name": "stdout"
        },
        {
          "output_type": "stream",
          "text": [
            "127.0.0.1 - - [25/Mar/2021 05:56:16] \"\u001b[37mPOST /uploader HTTP/1.1\u001b[0m\" 200 -\n",
            "127.0.0.1 - - [25/Mar/2021 05:56:16] \"\u001b[37mGET /static/detections/Cars1.png HTTP/1.1\u001b[0m\" 200 -\n",
            "127.0.0.1 - - [25/Mar/2021 05:56:16] \"\u001b[37mGET /static/uploads/Cars1.png HTTP/1.1\u001b[0m\" 200 -\n"
          ],
          "name": "stderr"
        },
        {
          "output_type": "stream",
          "text": [
            "Cars7.png\n",
            "/content/drive/MyDrive/deployment_final/static/uploads/Cars7.png\n",
            "filename is : Cars7.png\n"
          ],
          "name": "stdout"
        },
        {
          "output_type": "stream",
          "text": [
            "127.0.0.1 - - [25/Mar/2021 05:56:33] \"\u001b[37mPOST /uploader HTTP/1.1\u001b[0m\" 200 -\n",
            "127.0.0.1 - - [25/Mar/2021 05:56:33] \"\u001b[37mGET /static/detections/Cars7.png HTTP/1.1\u001b[0m\" 200 -\n",
            "127.0.0.1 - - [25/Mar/2021 05:56:33] \"\u001b[37mGET /static/uploads/Cars7.png HTTP/1.1\u001b[0m\" 200 -\n"
          ],
          "name": "stderr"
        },
        {
          "output_type": "stream",
          "text": [
            "18.jpg\n",
            "/content/drive/MyDrive/deployment_final/static/uploads/18.jpg\n",
            "filename is : 18.jpg\n"
          ],
          "name": "stdout"
        },
        {
          "output_type": "stream",
          "text": [
            "127.0.0.1 - - [25/Mar/2021 05:57:11] \"\u001b[37mPOST /uploader HTTP/1.1\u001b[0m\" 200 -\n",
            "127.0.0.1 - - [25/Mar/2021 05:57:11] \"\u001b[37mGET /static/detections/18.jpg HTTP/1.1\u001b[0m\" 200 -\n",
            "127.0.0.1 - - [25/Mar/2021 05:57:11] \"\u001b[37mGET /static/uploads/18.jpg HTTP/1.1\u001b[0m\" 200 -\n"
          ],
          "name": "stderr"
        }
      ]
    },
    {
      "cell_type": "code",
      "metadata": {
        "id": "mtD1E58PQlBr",
        "colab": {
          "base_uri": "https://localhost:8080/"
        },
        "outputId": "ad377716-ad55-476c-baae-8a6d4840f059"
      },
      "source": [
        "!pip install pyngrok"
      ],
      "execution_count": null,
      "outputs": [
        {
          "output_type": "stream",
          "text": [
            "Collecting pyngrok\n",
            "  Downloading https://files.pythonhosted.org/packages/ea/63/e086f165125e9bf2e71c0db2955911baaaa0af8947ab5c7b3771bdf4d4d5/pyngrok-5.0.0.tar.gz\n",
            "Requirement already satisfied: PyYAML in /usr/local/lib/python3.6/dist-packages (from pyngrok) (3.13)\n",
            "Building wheels for collected packages: pyngrok\n",
            "  Building wheel for pyngrok (setup.py) ... \u001b[?25l\u001b[?25hdone\n",
            "  Created wheel for pyngrok: filename=pyngrok-5.0.0-cp36-none-any.whl size=18781 sha256=76cd41fa6de29659ba11f06a357817c0568232ffcc538ad1ce832519f7c6fbf1\n",
            "  Stored in directory: /root/.cache/pip/wheels/95/df/23/af8dde08c3fcdc7b966adcacef48ab29aa3b0b1860df5d2b79\n",
            "Successfully built pyngrok\n",
            "Installing collected packages: pyngrok\n",
            "Successfully installed pyngrok-5.0.0\n"
          ],
          "name": "stdout"
        }
      ]
    },
    {
      "cell_type": "code",
      "metadata": {
        "id": "IGzHPhGbPS5q",
        "colab": {
          "base_uri": "https://localhost:8080/"
        },
        "outputId": "bfd22bb9-0fe3-45e7-cb95-27eb69f9f608"
      },
      "source": [
        "! ngrok authtoken 1lrZTxinRo0U9mi6coaB6fLnBjw_64Cp5Skg2bZtc37JVq4w1"
      ],
      "execution_count": null,
      "outputs": [
        {
          "output_type": "stream",
          "text": [
            "Authtoken saved to configuration file: /root/.ngrok2/ngrok.yml\n"
          ],
          "name": "stdout"
        }
      ]
    },
    {
      "cell_type": "code",
      "metadata": {
        "colab": {
          "base_uri": "https://localhost:8080/",
          "height": 295
        },
        "id": "D2v1SYGMo-nH",
        "outputId": "e3ee11d7-37b9-4440-d3d5-18c72e769bf6"
      },
      "source": [
        "import pyngrok"
      ],
      "execution_count": null,
      "outputs": [
        {
          "output_type": "error",
          "ename": "ModuleNotFoundError",
          "evalue": "ignored",
          "traceback": [
            "\u001b[0;31m---------------------------------------------------------------------------\u001b[0m",
            "\u001b[0;31mModuleNotFoundError\u001b[0m                       Traceback (most recent call last)",
            "\u001b[0;32m<ipython-input-6-ffdadb73047d>\u001b[0m in \u001b[0;36m<module>\u001b[0;34m()\u001b[0m\n\u001b[0;32m----> 1\u001b[0;31m \u001b[0;32mimport\u001b[0m \u001b[0mpyngrok\u001b[0m\u001b[0;34m\u001b[0m\u001b[0;34m\u001b[0m\u001b[0m\n\u001b[0m",
            "\u001b[0;31mModuleNotFoundError\u001b[0m: No module named 'pyngrok'",
            "",
            "\u001b[0;31m---------------------------------------------------------------------------\u001b[0;32m\nNOTE: If your import is failing due to a missing package, you can\nmanually install dependencies using either !pip or !apt.\n\nTo view examples of installing some common dependencies, click the\n\"Open Examples\" button below.\n\u001b[0;31m---------------------------------------------------------------------------\u001b[0m\n"
          ]
        }
      ]
    },
    {
      "cell_type": "code",
      "metadata": {
        "id": "4EUfq-eyROhJ"
      },
      "source": [
        "\n",
        "from pyngrok import ngrok\n"
      ],
      "execution_count": null,
      "outputs": []
    },
    {
      "cell_type": "code",
      "metadata": {
        "id": "k27Vw5GLo7BM"
      },
      "source": [
        "ngrok.kill()"
      ],
      "execution_count": null,
      "outputs": []
    },
    {
      "cell_type": "code",
      "metadata": {
        "colab": {
          "base_uri": "https://localhost:8080/",
          "height": 178
        },
        "id": "3ZCrYeD3REEH",
        "outputId": "f3f2a4f8-1193-4c6c-971a-894a77c2986a"
      },
      "source": [
        "app.run_server(mode='external')"
      ],
      "execution_count": null,
      "outputs": [
        {
          "output_type": "error",
          "ename": "AttributeError",
          "evalue": "ignored",
          "traceback": [
            "\u001b[0;31m---------------------------------------------------------------------------\u001b[0m",
            "\u001b[0;31mAttributeError\u001b[0m                            Traceback (most recent call last)",
            "\u001b[0;32m<ipython-input-9-f694d7ffd144>\u001b[0m in \u001b[0;36m<module>\u001b[0;34m()\u001b[0m\n\u001b[1;32m      1\u001b[0m \u001b[0;34m\u001b[0m\u001b[0m\n\u001b[0;32m----> 2\u001b[0;31m \u001b[0mapp\u001b[0m\u001b[0;34m.\u001b[0m\u001b[0mrun_server\u001b[0m\u001b[0;34m(\u001b[0m\u001b[0mmode\u001b[0m\u001b[0;34m=\u001b[0m\u001b[0;34m'external'\u001b[0m\u001b[0;34m)\u001b[0m\u001b[0;34m\u001b[0m\u001b[0;34m\u001b[0m\u001b[0m\n\u001b[0m",
            "\u001b[0;31mAttributeError\u001b[0m: 'Flask' object has no attribute 'run_server'"
          ]
        }
      ]
    }
  ]
}